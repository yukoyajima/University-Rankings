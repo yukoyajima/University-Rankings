{
 "cells": [
  {
   "cell_type": "markdown",
   "id": "193af70f-e20e-4aaa-908e-7082d2ed97c1",
   "metadata": {},
   "source": [
    "# Group Interim Proposal #"
   ]
  },
  {
   "cell_type": "markdown",
   "id": "613a86d5-bdb2-4350-b4f3-4f33fcb8dc69",
   "metadata": {},
   "source": [
    "**Source from which you obtained the data** \\\n",
    "The data was collected in 2023 across more than 15.5 million research publications and from survey responses from over 40,000 scholars globally. It is a structured data source available on Kaggle.\n",
    "\n",
    "**Brief description** \\\n",
    "The dataset includes the rankings of 1799 universities across 104 countries. It contains 13 variables recording the universities’ performances across teaching, research, international outlook and knowledge transfer perspectives.\n",
    "\n",
    "Our focus is on four main variables (including the response) as well as five other variables that we suspect relate to our response variable:\n",
    "- `Overall Score` is a continuous variable that measures the overall performance out of 100. This is the response variable. \n",
    "- `University Rank` is a categorical variable including rankings from 1 to more than 1501.\n",
    "- `Number of Students` is a continuous variable that accounts for the present number of students attending that university.\n",
    "- `International Student` is a continuous variable that records the percentage of students enrolled that are international students.\n",
    "- `Teaching Score` is a continuous variable that measures the teaching performance out of 100.\n",
    "- `Research Score` is a continuous variable that measures the research impact out of 100.\n",
    "- `Industry Income Score` is a continuous variable that measures the financial performance and income potential out of 100.\n",
    "- `Citation Score` is a continuous variable that measures the academic influence out of 100.\n",
    "- `International Outlook Score`International Outlook Score is a continuous variable that measures the international outlook ability out of 100.\n",
    "\n",
    "**The research question** \\\n",
    "Does a university’s financial performance, overall research ability, and percentage of international students attending increase the university’s overall score and, subsequently, ranking?\n",
    "\n",
    "**Motivation for analyzing the data and background** \\\n",
    "A university’s overall score reflects not only its educational quality and reputation but also its ability to attract students with specific career goals and academic interests. This is particularly important for graduate school applications, where selecting the right institution is about finding the best fit for both the student and the university.\n",
    "\n",
    "As upper-year students like us are considering graduate programs, understanding the factors that contribute to a university’s overall standing can serve as a valuable guide in making informed application decisions. By analyzing how financial performance, research strength, and international student presence relate to overall university rankings, we aim to gain insights that could help us and others navigate the selection process more effectively.\n",
    "\n",
    "**An overview of who in your group will do what** \\\n",
    "Rose Wang (44885374) - Responsible for the introduction, including data description and motivation, creating clear visualizations to assess model assumptions.\n",
    "\n",
    "Jenni Tong (23988835) - Responsible for selecting the statistical methodology, conducting model diagnostics, and summarizing the conclusions.\n",
    "\n",
    "Yuko Murayama (23148265) - Responsible for discussion, interpreting the findings from analysis and discussing the limitations of study\n",
    "\n",
    "Yuko Yajima (24715716) - Responsible for identifying initial trends and summary statistics, documenting decisions made via comments, creating a repository to have a central location where all members can access code.  \n"
   ]
  }
 ],
 "metadata": {
  "kernelspec": {
   "display_name": "R",
   "language": "R",
   "name": "ir"
  },
  "language_info": {
   "codemirror_mode": "r",
   "file_extension": ".r",
   "mimetype": "text/x-r-source",
   "name": "R",
   "pygments_lexer": "r",
   "version": "4.4.1"
  }
 },
 "nbformat": 4,
 "nbformat_minor": 5
}
